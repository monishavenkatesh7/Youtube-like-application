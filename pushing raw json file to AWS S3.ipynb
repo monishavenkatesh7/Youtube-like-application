{
 "cells": [
  {
   "cell_type": "code",
   "execution_count": 5,
   "id": "75d81da3-640d-4315-9ed1-64daab893e1f",
   "metadata": {},
   "outputs": [
    {
     "name": "stdout",
     "output_type": "stream",
     "text": [
      "Requirement already satisfied: boto3 in c:\\users\\dell\\anaconda3\\lib\\site-packages (1.35.2)\n",
      "Requirement already satisfied: botocore<1.36.0,>=1.35.2 in c:\\users\\dell\\anaconda3\\lib\\site-packages (from boto3) (1.35.2)\n",
      "Requirement already satisfied: jmespath<2.0.0,>=0.7.1 in c:\\users\\dell\\anaconda3\\lib\\site-packages (from boto3) (0.10.0)\n",
      "Requirement already satisfied: s3transfer<0.11.0,>=0.10.0 in c:\\users\\dell\\anaconda3\\lib\\site-packages (from boto3) (0.10.2)\n",
      "Requirement already satisfied: python-dateutil<3.0.0,>=2.1 in c:\\users\\dell\\anaconda3\\lib\\site-packages (from botocore<1.36.0,>=1.35.2->boto3) (2.8.2)\n",
      "Requirement already satisfied: urllib3!=2.2.0,<3,>=1.25.4 in c:\\users\\dell\\anaconda3\\lib\\site-packages (from botocore<1.36.0,>=1.35.2->boto3) (1.26.16)\n",
      "Requirement already satisfied: six>=1.5 in c:\\users\\dell\\anaconda3\\lib\\site-packages (from python-dateutil<3.0.0,>=2.1->botocore<1.36.0,>=1.35.2->boto3) (1.16.0)\n",
      "Note: you may need to restart the kernel to use updated packages.\n"
     ]
    }
   ],
   "source": [
    "pip install boto3"
   ]
  },
  {
   "cell_type": "code",
   "execution_count": 6,
   "id": "12817d5b-25b4-47a3-a29c-5a5f3b9df968",
   "metadata": {},
   "outputs": [],
   "source": [
    "import pandas as pd\n",
    "df = pd.read_excel('youtube_data.xlsx')"
   ]
  },
  {
   "cell_type": "code",
   "execution_count": 7,
   "id": "61bcc7ba-27cf-42d3-adb1-93a1019a9212",
   "metadata": {},
   "outputs": [],
   "source": [
    "# Convert DataFrame to JSON\n",
    "json_data = df.to_json(orient='records', indent=4)\n",
    "\n",
    "# Save JSON to a file (optional)\n",
    "with open('videos.json', 'w') as json_file:\n",
    "    json_file.write(json_data)"
   ]
  },
  {
   "cell_type": "code",
   "execution_count": 8,
   "id": "862ad41d-f6c4-4828-bd9e-69b4cf6fdfe6",
   "metadata": {},
   "outputs": [
    {
     "name": "stdout",
     "output_type": "stream",
     "text": [
      "File 'youtube_raw_data.json' uploaded successfully to S3 bucket 'youtuberawdata1'\n"
     ]
    }
   ],
   "source": [
    "import boto3\n",
    "from botocore.exceptions import NoCredentialsError\n",
    "\n",
    "# AWS S3 credentials\n",
    "aws_access_key_id = ''  # Replace with your actual AWS Access Key ID\n",
    "aws_secret_access_key = ''  # Replace with your actual AWS Secret Access Key\n",
    "bucket_name = 'youtuberawdata1'  # Replace with your S3 bucket name\n",
    "s3_file_name = 'youtube_raw_data.json'  # The name under which the file will be stored in S3\n",
    "\n",
    "# Initialize a session using Amazon S3\n",
    "s3 = boto3.client(\n",
    "    's3',\n",
    "    aws_access_key_id=aws_access_key_id,\n",
    "    aws_secret_access_key=aws_secret_access_key\n",
    ")\n",
    "\n",
    "# Upload JSON data to S3\n",
    "try:\n",
    "    s3.put_object(Bucket=bucket_name, Key=s3_file_name, Body=json_data, ContentType='application/json')\n",
    "    print(f\"File '{s3_file_name}' uploaded successfully to S3 bucket '{bucket_name}'\")\n",
    "except NoCredentialsError:\n",
    "    print(\"Credentials not available.\")\n"
   ]
  },
  {
   "cell_type": "code",
   "execution_count": null,
   "id": "7db40616-abfe-4aba-a388-c87a1e0a08e3",
   "metadata": {},
   "outputs": [],
   "source": []
  },
  {
   "cell_type": "code",
   "execution_count": null,
   "id": "f777880f-5492-4118-9aa3-0994baeed5a3",
   "metadata": {},
   "outputs": [],
   "source": []
  }
 ],
 "metadata": {
  "kernelspec": {
   "display_name": "Python 3 (ipykernel)",
   "language": "python",
   "name": "python3"
  },
  "language_info": {
   "codemirror_mode": {
    "name": "ipython",
    "version": 3
   },
   "file_extension": ".py",
   "mimetype": "text/x-python",
   "name": "python",
   "nbconvert_exporter": "python",
   "pygments_lexer": "ipython3",
   "version": "3.11.5"
  }
 },
 "nbformat": 4,
 "nbformat_minor": 5
}
