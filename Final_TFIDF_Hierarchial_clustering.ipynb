{
 "cells": [
  {
   "cell_type": "code",
   "execution_count": 17,
   "metadata": {
    "colab": {
     "base_uri": "https://localhost:8080/"
    },
    "id": "ha5KRoFsMlJA",
    "outputId": "e1879275-336a-4e17-d915-c46e0e592072"
   },
   "outputs": [
    {
     "name": "stdout",
     "output_type": "stream",
     "text": [
      "Requirement already satisfied: nltk in c:\\users\\dell\\anaconda3\\lib\\site-packages (3.8.1)Note: you may need to restart the kernel to use updated packages.\n",
      "\n",
      "Requirement already satisfied: click in c:\\users\\dell\\anaconda3\\lib\\site-packages (from nltk) (8.0.4)\n",
      "Requirement already satisfied: joblib in c:\\users\\dell\\anaconda3\\lib\\site-packages (from nltk) (1.2.0)\n",
      "Requirement already satisfied: regex>=2021.8.3 in c:\\users\\dell\\anaconda3\\lib\\site-packages (from nltk) (2022.7.9)\n",
      "Requirement already satisfied: tqdm in c:\\users\\dell\\anaconda3\\lib\\site-packages (from nltk) (4.65.0)\n",
      "Requirement already satisfied: colorama in c:\\users\\dell\\anaconda3\\lib\\site-packages (from click->nltk) (0.4.6)\n"
     ]
    }
   ],
   "source": [
    "pip install nltk"
   ]
  },
  {
   "cell_type": "code",
   "execution_count": 18,
   "metadata": {},
   "outputs": [
    {
     "name": "stdout",
     "output_type": "stream",
     "text": [
      "Name: streamlitNote: you may need to restart the kernel to use updated packages.\n",
      "\n",
      "Version: 1.36.0\n",
      "Summary: A faster way to build and share data apps\n",
      "Home-page: https://streamlit.io\n",
      "Author: Snowflake Inc\n",
      "Author-email: hello@streamlit.io\n",
      "License: Apache License 2.0\n",
      "Location: C:\\Users\\DELL\\anaconda3\\Lib\\site-packages\n",
      "Requires: altair, blinker, cachetools, click, gitpython, numpy, packaging, pandas, pillow, protobuf, pyarrow, pydeck, requests, rich, tenacity, toml, tornado, typing-extensions, watchdog\n",
      "Required-by: \n"
     ]
    }
   ],
   "source": [
    "pip show streamlit"
   ]
  },
  {
   "cell_type": "code",
   "execution_count": 19,
   "metadata": {
    "colab": {
     "base_uri": "https://localhost:8080/"
    },
    "id": "BqnjZXHTMmh3",
    "outputId": "9062af23-f261-4eb1-8237-b897756454e1"
   },
   "outputs": [
    {
     "name": "stderr",
     "output_type": "stream",
     "text": [
      "[nltk_data] Downloading package punkt to\n",
      "[nltk_data]     C:\\Users\\DELL\\AppData\\Roaming\\nltk_data...\n",
      "[nltk_data]   Package punkt is already up-to-date!\n",
      "[nltk_data] Downloading package wordnet to\n",
      "[nltk_data]     C:\\Users\\DELL\\AppData\\Roaming\\nltk_data...\n",
      "[nltk_data]   Package wordnet is already up-to-date!\n",
      "[nltk_data] Downloading package stopwords to\n",
      "[nltk_data]     C:\\Users\\DELL\\AppData\\Roaming\\nltk_data...\n",
      "[nltk_data]   Package stopwords is already up-to-date!\n"
     ]
    }
   ],
   "source": [
    "import pandas as pd\n",
    "import nltk\n",
    "from nltk.corpus import stopwords\n",
    "from nltk.tokenize import word_tokenize\n",
    "from nltk.stem import WordNetLemmatizer\n",
    "\n",
    "# Download necessary datasets\n",
    "nltk.download('punkt')\n",
    "nltk.download('wordnet')\n",
    "nltk.download('stopwords')\n",
    "\n",
    "# Initialize the lemmatizer\n",
    "lemmatizer = WordNetLemmatizer()\n",
    "\n",
    "# Get English stopwords\n",
    "stop_words = set(stopwords.words('english'))\n",
    "\n",
    "def preprocess_text(text):\n",
    "    # Tokenize the text\n",
    "    words = word_tokenize(text)\n",
    "\n",
    "    # Lemmatize and remove stopwords\n",
    "    processed_words = [lemmatizer.lemmatize(word.lower()) for word in words if word.lower() not in stop_words and word.isalpha()]\n",
    "\n",
    "    # Join the processed words back into a string\n",
    "    return ' '.join(processed_words)"
   ]
  },
  {
   "cell_type": "code",
   "execution_count": 20,
   "metadata": {
    "id": "pSHQktd2z9xC"
   },
   "outputs": [],
   "source": [
    "import pandas as pd\n",
    "# df = pd.read_excel('/content/youtube_data.xlsx')\n",
    "df = pd.read_excel(\"youtube_data.xlsx\")\n",
    "\n",
    "tages_list = list(df['tags_list'])\n",
    "title_list = list(df['title_list'])\n",
    "video_url_list = list(df['video_url_list'])\n",
    "# video_url_list_cleaned = []\n",
    "# for i in video_url_list:\n",
    "#   video_url_list_cleaned.append('https://www.youtube.com/watch?v=' + i.split('?')[1])\n",
    "# df['video_url_list'] = video_url_list_cleaned\n",
    "\n",
    "def tags_cleaning(x):\n",
    "  x = x.replace('[', '')\n",
    "  x = x.replace(']', '')\n",
    "  x = x.replace(\"'\", '')\n",
    "  x = x.split(', ')\n",
    "  return x\n",
    "\n",
    "tags_list_cleaned = []\n",
    "for i in tages_list:\n",
    "  tags_list_cleaned.append(tags_cleaning(i))\n",
    "\n",
    "df['tags_list'] = tags_list_cleaned\n",
    "\n",
    "tags_list = list(df[\"tags_list\"])\n",
    "\n",
    "df.to_excel('youtub_data_labelled_cleaned.xlsx', index = False)\n",
    "df.to_json('youtub_data_labelled_cleaned.json', orient='records', lines=True)\n",
    "video_url_list = list(df['video_url_list'])"
   ]
  },
  {
   "cell_type": "code",
   "execution_count": 21,
   "metadata": {
    "id": "2_3tDn7tNIj_"
   },
   "outputs": [],
   "source": [
    "from sklearn.feature_extraction.text import TfidfVectorizer\n",
    "from scipy.cluster.hierarchy import linkage, fcluster\n",
    "from sklearn.metrics.pairwise import cosine_similarity\n",
    "import numpy as np\n",
    "\n",
    "# Your data\n",
    "data = tags_list\n",
    "\n",
    "# Combine the tags into a single string for each list\n",
    "documents = [\" \".join(tags) for tags in data]\n",
    "\n",
    "documents = [preprocess_text(text) for text in documents]\n",
    "\n",
    "# Vectorization\n",
    "vectorizer = TfidfVectorizer()\n",
    "X = vectorizer.fit_transform(documents).toarray()\n",
    "\n",
    "# Perform hierarchical clustering\n",
    "Z = linkage(X, method='ward')\n",
    "\n",
    "# Choose the number of clusters\n",
    "k = 250\n",
    "labels = fcluster(Z, k, criterion='maxclust')"
   ]
  },
  {
   "cell_type": "code",
   "execution_count": 22,
   "metadata": {},
   "outputs": [],
   "source": [
    "# Calculate the centroid of each cluster\n",
    "cluster_centroids = []\n",
    "for cluster_id in np.unique(labels):\n",
    "    cluster_vectors = X[labels == cluster_id]\n",
    "    cluster_centroid = cluster_vectors.mean(axis=0)\n",
    "    cluster_centroids.append(cluster_centroid)"
   ]
  },
  {
   "cell_type": "code",
   "execution_count": 23,
   "metadata": {},
   "outputs": [],
   "source": [
    "import pickle\n",
    "\n",
    "with open('clustering_labels.pkl', 'wb') as f:\n",
    "    pickle.dump(labels, f)\n",
    "\n",
    "# # Save the TF-IDF vectorized matrix\n",
    "# with open('tfidf_matrix.pkl', 'wb') as f:\n",
    "#     pickle.dump(X, f)\n",
    "\n",
    "# Save the vectorizer itself\n",
    "with open('vectorizer.pkl', 'wb') as f:\n",
    "    pickle.dump(vectorizer, f)\n",
    "\n",
    "with open('cluster_centroids.pkl', 'wb') as f:\n",
    "    pickle.dump(cluster_centroids, f)"
   ]
  },
  {
   "cell_type": "code",
   "execution_count": 24,
   "metadata": {},
   "outputs": [],
   "source": [
    "# Load the clustering labels\n",
    "with open('clustering_labels.pkl', 'rb') as f:\n",
    "    labels = pickle.load(f)\n",
    "\n",
    "# # Load the TF-IDF vectorized matrix\n",
    "# with open('tfidf_matrix.pkl', 'rb') as f:\n",
    "#     X = pickle.load(f)\n",
    "\n",
    "# Load the vectorizer\n",
    "with open('vectorizer.pkl', 'rb') as f:\n",
    "    vectorizer = pickle.load(f)\n",
    "\n",
    "with open('cluster_centroids.pkl', 'rb') as f:\n",
    "    cluster_centroids = pickle.load(f)"
   ]
  },
  {
   "cell_type": "code",
   "execution_count": 25,
   "metadata": {},
   "outputs": [
    {
     "name": "stdout",
     "output_type": "stream",
     "text": [
      "tfidf_matrix_0.pkl\n",
      "tfidf_matrix_1.pkl\n",
      "tfidf_matrix_2.pkl\n",
      "tfidf_matrix_3.pkl\n",
      "tfidf_matrix_4.pkl\n",
      "tfidf_matrix_5.pkl\n",
      "tfidf_matrix_6.pkl\n",
      "tfidf_matrix_7.pkl\n",
      "tfidf_matrix_8.pkl\n",
      "tfidf_matrix_9.pkl\n",
      "tfidf_matrix_10.pkl\n",
      "tfidf_matrix_11.pkl\n"
     ]
    }
   ],
   "source": [
    "for i in range(12):\n",
    "    z = X[i*400:i*400+400]\n",
    "    # Save the TF-IDF vectorized matrix\n",
    "    with open(f'tfidf_matrix_{i}.pkl', 'wb') as f:\n",
    "        pickle.dump(z, f)\n",
    "    print(f'tfidf_matrix_{i}.pkl')\n",
    "\n"
   ]
  },
  {
   "cell_type": "code",
   "execution_count": 26,
   "metadata": {},
   "outputs": [
    {
     "name": "stdout",
     "output_type": "stream",
     "text": [
      "read tfidf_matrix_0.pkl\n",
      "read tfidf_matrix_1.pkl\n",
      "read tfidf_matrix_2.pkl\n",
      "read tfidf_matrix_3.pkl\n",
      "read tfidf_matrix_4.pkl\n",
      "read tfidf_matrix_5.pkl\n",
      "read tfidf_matrix_6.pkl\n",
      "read tfidf_matrix_7.pkl\n",
      "read tfidf_matrix_8.pkl\n",
      "read tfidf_matrix_9.pkl\n",
      "read tfidf_matrix_10.pkl\n",
      "read tfidf_matrix_11.pkl\n"
     ]
    }
   ],
   "source": [
    "\n",
    "z = []\n",
    "for i in range(12):\n",
    "    try:\n",
    "        # Load the TF-IDF vectorized matrix\n",
    "        with open(f'tfidf_matrix_{i}.pkl', 'rb') as f:\n",
    "            z.append(pickle.load(f))\n",
    "            \n",
    "        print(f'read tfidf_matrix_{i}.pkl')\n",
    "    except:\n",
    "        print(f'read tfidf_matrix_{i}.pkl not found')\n",
    "X = np.vstack(z)  "
   ]
  },
  {
   "cell_type": "code",
   "execution_count": 27,
   "metadata": {
    "colab": {
     "base_uri": "https://localhost:8080/"
    },
    "id": "Lu9uUg9ekS8I",
    "outputId": "a802928a-8126-44bf-89d3-dfa9e928309b"
   },
   "outputs": [
    {
     "name": "stdout",
     "output_type": "stream",
     "text": [
      "samsung\n",
      "Samsung Galaxy S10, S10 Plus & S10e ⚡⚡⚡ Everything You Need to Know!\n",
      "https://www.youtube.com/watch?v=xy-I4PAZqZY\n",
      "Samsung Galaxy S8 & S8+ Review The Best Android Smartphone?\n",
      "https://www.youtube.com/watch?v=GVZWnLbvQDE\n",
      "Samsung Galaxy M Series (M10, M20, M30) Smartphones - Will They Challenge Xiaomi's Dominance?\n",
      "https://www.youtube.com/watch?v=nnrl8kBooGo\n",
      "Samsung Galaxy C9 Pro Unboxing & Overview (Indian Unit)\n",
      "https://www.youtube.com/watch?v=V7eIT3m5bOc\n",
      "Samsung Galaxy S7 Unboxing & Overview Indian Retail Unit\n",
      "https://www.youtube.com/watch?v=l-jTHyN810g\n"
     ]
    }
   ],
   "source": [
    "from sklearn.metrics.pairwise import cosine_similarity\n",
    "import numpy as np\n",
    "\n",
    "def recommend_videos_using_clustering(keyword, vectorizer, X, labels, df, cluster_centroids, top_n=5):\n",
    "    # Preprocess the keyword\n",
    "    keyword_vector = vectorizer.transform([keyword]).toarray()\n",
    "\n",
    "    # Find the most similar cluster to the keyword\n",
    "    cluster_similarities = cosine_similarity(keyword_vector, cluster_centroids)\n",
    "    most_similar_cluster_id = np.argmax(cluster_similarities)\n",
    "\n",
    "    # Get all videos in the most similar cluster\n",
    "    cluster_indices = np.where(labels == most_similar_cluster_id + 1)[0]  # +1 because labels are 1-indexed\n",
    "    cluster_vectors = X[cluster_indices]\n",
    "\n",
    "    # Calculate similarity of the keyword to all videos in the cluster\n",
    "    video_similarities = cosine_similarity(keyword_vector, cluster_vectors)[0]\n",
    "\n",
    "    # Get the indices of the top N matches within the cluster\n",
    "    top_indices = np.argsort(video_similarities)[::-1][:top_n]\n",
    "\n",
    "    # Retrieve the corresponding titles and video URLs\n",
    "    recommendations = df.iloc[cluster_indices[top_indices]][['title_list', 'video_url_list']]\n",
    "\n",
    "    return recommendations\n",
    "\n",
    "# Example usage\n",
    "keyword =input()\n",
    "recommendations = recommend_videos_using_clustering(keyword, vectorizer, X, labels, df, cluster_centroids)\n",
    "result_title_list = list(recommendations['title_list'])\n",
    "result_video_url_list = list(recommendations['video_url_list'])\n",
    "for i, j in zip(result_title_list, result_video_url_list):\n",
    "  print(i)\n",
    "  print(j)"
   ]
  },
  {
   "cell_type": "code",
   "execution_count": null,
   "metadata": {},
   "outputs": [],
   "source": []
  }
 ],
 "metadata": {
  "colab": {
   "provenance": []
  },
  "kernelspec": {
   "display_name": "Python 3 (ipykernel)",
   "language": "python",
   "name": "python3"
  },
  "language_info": {
   "codemirror_mode": {
    "name": "ipython",
    "version": 3
   },
   "file_extension": ".py",
   "mimetype": "text/x-python",
   "name": "python",
   "nbconvert_exporter": "python",
   "pygments_lexer": "ipython3",
   "version": "3.11.5"
  }
 },
 "nbformat": 4,
 "nbformat_minor": 4
}
