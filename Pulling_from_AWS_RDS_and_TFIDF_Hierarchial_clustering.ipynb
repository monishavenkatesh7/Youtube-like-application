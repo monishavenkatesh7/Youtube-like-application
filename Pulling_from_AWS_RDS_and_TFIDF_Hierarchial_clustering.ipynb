{
 "cells": [
  {
   "cell_type": "code",
   "execution_count": 1,
   "metadata": {
    "id": "gaOwetv-XJ--"
   },
   "outputs": [],
   "source": [
    "# identifier: yt-cleaned-data\n",
    "# Master username: admin\n",
    "# Master password: Admin123\n",
    "# new vpc security group name: yt_demo_vpc\n",
    "# Database port: 3306\n",
    "# initial database name: yt_cleaned_data"
   ]
  },
  {
   "cell_type": "code",
   "execution_count": 2,
   "metadata": {
    "colab": {
     "base_uri": "https://localhost:8080/"
    },
    "id": "OLSIYfRUeGCn",
    "outputId": "a7b22690-7d26-4d28-8881-499d606ed7d5"
   },
   "outputs": [
    {
     "name": "stdout",
     "output_type": "stream",
     "text": [
      "Requirement already satisfied: nltk in c:\\users\\dell\\anaconda3\\lib\\site-packages (3.8.1)\n",
      "Requirement already satisfied: click in c:\\users\\dell\\anaconda3\\lib\\site-packages (from nltk) (8.0.4)\n",
      "Requirement already satisfied: joblib in c:\\users\\dell\\anaconda3\\lib\\site-packages (from nltk) (1.2.0)\n",
      "Requirement already satisfied: regex>=2021.8.3 in c:\\users\\dell\\anaconda3\\lib\\site-packages (from nltk) (2022.7.9)\n",
      "Requirement already satisfied: tqdm in c:\\users\\dell\\anaconda3\\lib\\site-packages (from nltk) (4.65.0)\n",
      "Requirement already satisfied: colorama in c:\\users\\dell\\anaconda3\\lib\\site-packages (from click->nltk) (0.4.6)\n",
      "Note: you may need to restart the kernel to use updated packages.\n"
     ]
    }
   ],
   "source": [
    "pip install nltk"
   ]
  },
  {
   "cell_type": "code",
   "execution_count": 3,
   "metadata": {
    "colab": {
     "base_uri": "https://localhost:8080/"
    },
    "id": "tHBPfcuieFmI",
    "outputId": "7e3da744-4605-4886-fd0e-4795a778697b"
   },
   "outputs": [
    {
     "name": "stderr",
     "output_type": "stream",
     "text": [
      "[nltk_data] Downloading package punkt to\n",
      "[nltk_data]     C:\\Users\\DELL\\AppData\\Roaming\\nltk_data...\n",
      "[nltk_data]   Package punkt is already up-to-date!\n",
      "[nltk_data] Downloading package wordnet to\n",
      "[nltk_data]     C:\\Users\\DELL\\AppData\\Roaming\\nltk_data...\n",
      "[nltk_data]   Package wordnet is already up-to-date!\n",
      "[nltk_data] Downloading package stopwords to\n",
      "[nltk_data]     C:\\Users\\DELL\\AppData\\Roaming\\nltk_data...\n",
      "[nltk_data]   Package stopwords is already up-to-date!\n"
     ]
    }
   ],
   "source": [
    "import pandas as pd\n",
    "import nltk\n",
    "from nltk.corpus import stopwords\n",
    "from nltk.tokenize import word_tokenize\n",
    "from nltk.stem import WordNetLemmatizer\n",
    "\n",
    "# Download necessary datasets\n",
    "nltk.download('punkt')\n",
    "nltk.download('wordnet')\n",
    "nltk.download('stopwords')\n",
    "\n",
    "# Initialize the lemmatizer\n",
    "lemmatizer = WordNetLemmatizer()\n",
    "\n",
    "# Get English stopwords\n",
    "stop_words = set(stopwords.words('english'))\n",
    "\n",
    "def preprocess_text(text):\n",
    "    # Tokenize the text\n",
    "    words = word_tokenize(text)\n",
    "\n",
    "    # Lemmatize and remove stopwords\n",
    "    processed_words = [lemmatizer.lemmatize(word.lower()) for word in words if word.lower() not in stop_words and word.isalpha()]\n",
    "\n",
    "    # Join the processed words back into a string\n",
    "    return ' '.join(processed_words)"
   ]
  },
  {
   "cell_type": "code",
   "execution_count": 4,
   "metadata": {
    "colab": {
     "base_uri": "https://localhost:8080/"
    },
    "id": "khOWcxTAZCab",
    "outputId": "e1d4eef1-534e-40d8-8b58-4deb58b398fc"
   },
   "outputs": [
    {
     "name": "stdout",
     "output_type": "stream",
     "text": [
      "Requirement already satisfied: pandas in c:\\users\\dell\\anaconda3\\lib\\site-packages (2.0.3)\n",
      "Requirement already satisfied: sqlalchemy in c:\\users\\dell\\anaconda3\\lib\\site-packages (1.4.39)\n",
      "Requirement already satisfied: mysql-connector-python in c:\\users\\dell\\anaconda3\\lib\\site-packages (9.0.0)\n",
      "Requirement already satisfied: python-dateutil>=2.8.2 in c:\\users\\dell\\anaconda3\\lib\\site-packages (from pandas) (2.8.2)\n",
      "Requirement already satisfied: pytz>=2020.1 in c:\\users\\dell\\anaconda3\\lib\\site-packages (from pandas) (2023.3.post1)\n",
      "Requirement already satisfied: tzdata>=2022.1 in c:\\users\\dell\\anaconda3\\lib\\site-packages (from pandas) (2023.3)\n",
      "Requirement already satisfied: numpy>=1.21.0 in c:\\users\\dell\\anaconda3\\lib\\site-packages (from pandas) (1.24.3)\n",
      "Requirement already satisfied: greenlet!=0.4.17 in c:\\users\\dell\\anaconda3\\lib\\site-packages (from sqlalchemy) (2.0.1)\n",
      "Requirement already satisfied: six>=1.5 in c:\\users\\dell\\anaconda3\\lib\\site-packages (from python-dateutil>=2.8.2->pandas) (1.16.0)\n",
      "Note: you may need to restart the kernel to use updated packages.\n"
     ]
    }
   ],
   "source": [
    "pip install pandas sqlalchemy mysql-connector-python"
   ]
  },
  {
   "cell_type": "code",
   "execution_count": 5,
   "metadata": {
    "id": "RLiqb3G4b90V"
   },
   "outputs": [],
   "source": [
    "import pandas as pd\n",
    "from sqlalchemy import create_engine\n",
    "\n",
    "# Database connection parameters\n",
    "host = ''  # Replace with your actual AWS RDS endpoint\n",
    "database = 'yt_cleaned_data'\n",
    "user = 'admin'\n",
    "password = 'Admin123'\n",
    "port = 3306\n",
    "\n",
    "# Create SQLAlchemy engine\n",
    "engine = create_engine(f'mysql+mysqlconnector://{user}:{password}@{host}:{port}/{database}')\n",
    "\n",
    "# Read data from MySQL table into a DataFrame\n",
    "df = pd.read_sql('SELECT * FROM yt_cleaned_data', con=engine)\n"
   ]
  },
  {
   "cell_type": "code",
   "execution_count": 6,
   "metadata": {
    "id": "2_3tDn7tNIj_"
   },
   "outputs": [],
   "source": [
    "from sklearn.feature_extraction.text import TfidfVectorizer\n",
    "from scipy.cluster.hierarchy import linkage, fcluster\n",
    "from sklearn.metrics.pairwise import cosine_similarity\n",
    "import numpy as np\n",
    "\n",
    "# Your data\n",
    "data = list(df['tags_list'])\n",
    "\n",
    "documents = [preprocess_text(text) for text in data]\n",
    "\n",
    "# Vectorization\n",
    "vectorizer = TfidfVectorizer()\n",
    "X = vectorizer.fit_transform(documents).toarray()\n",
    "\n",
    "# Perform hierarchical clustering\n",
    "Z = linkage(X, method='ward')\n",
    "\n",
    "# Choose the number of clusters\n",
    "k = 250\n",
    "labels = fcluster(Z, k, criterion='maxclust')"
   ]
  },
  {
   "cell_type": "code",
   "execution_count": 7,
   "metadata": {
    "colab": {
     "base_uri": "https://localhost:8080/"
    },
    "id": "U-fBdtyQhtT4",
    "outputId": "96d0c440-b778-42d3-9e27-9704ca06c949"
   },
   "outputs": [
    {
     "name": "stdout",
     "output_type": "stream",
     "text": [
      "Silhouette Score: 0.3783247052214623\n"
     ]
    }
   ],
   "source": [
    "from sklearn.metrics import silhouette_score\n",
    "\n",
    "silhouette_avg = silhouette_score(X, labels)\n",
    "print(f\"Silhouette Score: {silhouette_avg}\")\n"
   ]
  },
  {
   "cell_type": "code",
   "execution_count": 8,
   "metadata": {
    "id": "QFdY_L8mptgu"
   },
   "outputs": [],
   "source": [
    "import pickle\n",
    "\n",
    "with open('clustering_labels.pkl', 'wb') as f:\n",
    "    pickle.dump(labels, f)\n",
    "\n",
    "# # Save the TF-IDF vectorized matrix\n",
    "# with open('tfidf_matrix.pkl', 'wb') as f:\n",
    "#     pickle.dump(X, f)\n",
    "\n",
    "# Save the vectorizer itself\n",
    "with open('vectorizer.pkl', 'wb') as f:\n",
    "    pickle.dump(vectorizer, f)"
   ]
  },
  {
   "cell_type": "code",
   "execution_count": 9,
   "metadata": {
    "id": "rAdRN92Uptc1"
   },
   "outputs": [],
   "source": [
    "# Load the clustering labels\n",
    "with open('clustering_labels.pkl', 'rb') as f:\n",
    "    labels = pickle.load(f)\n",
    "\n",
    "# # Load the TF-IDF vectorized matrix\n",
    "# with open('tfidf_matrix.pkl', 'rb') as f:\n",
    "#     X = pickle.load(f)\n",
    "\n",
    "# Load the vectorizer\n",
    "with open('vectorizer.pkl', 'rb') as f:\n",
    "    vectorizer = pickle.load(f)\n"
   ]
  },
  {
   "cell_type": "code",
   "execution_count": 10,
   "metadata": {},
   "outputs": [
    {
     "name": "stdout",
     "output_type": "stream",
     "text": [
      "tfidf_matrix_0.pkl\n",
      "tfidf_matrix_1.pkl\n",
      "tfidf_matrix_2.pkl\n",
      "tfidf_matrix_3.pkl\n",
      "tfidf_matrix_4.pkl\n",
      "tfidf_matrix_5.pkl\n",
      "tfidf_matrix_6.pkl\n",
      "tfidf_matrix_7.pkl\n",
      "tfidf_matrix_8.pkl\n",
      "tfidf_matrix_9.pkl\n",
      "tfidf_matrix_10.pkl\n",
      "tfidf_matrix_11.pkl\n",
      "read tfidf_matrix_0.pkl\n",
      "read tfidf_matrix_1.pkl\n",
      "read tfidf_matrix_2.pkl\n",
      "read tfidf_matrix_3.pkl\n",
      "read tfidf_matrix_4.pkl\n",
      "read tfidf_matrix_5.pkl\n",
      "read tfidf_matrix_6.pkl\n",
      "read tfidf_matrix_7.pkl\n",
      "read tfidf_matrix_8.pkl\n",
      "read tfidf_matrix_9.pkl\n",
      "read tfidf_matrix_10.pkl\n",
      "read tfidf_matrix_11.pkl\n"
     ]
    }
   ],
   "source": [
    "for i in range(12):\n",
    "    z = X[i*400:i*400+400]\n",
    "    # Save the TF-IDF vectorized matrix\n",
    "    with open(f'tfidf_matrix_{i}.pkl', 'wb') as f:\n",
    "        pickle.dump(z, f)\n",
    "    print(f'tfidf_matrix_{i}.pkl')\n",
    "\n",
    "z = []\n",
    "for i in range(12):\n",
    "    try:\n",
    "        # Load the TF-IDF vectorized matrix\n",
    "        with open(f'tfidf_matrix_{i}.pkl', 'rb') as f:\n",
    "            z.append(pickle.load(f))\n",
    "            \n",
    "        print(f'read tfidf_matrix_{i}.pkl')\n",
    "    except:\n",
    "        print(f'read tfidf_matrix_{i}.pkl not found')\n",
    "X = np.vstack(z)  "
   ]
  },
  {
   "cell_type": "code",
   "execution_count": 12,
   "metadata": {
    "colab": {
     "base_uri": "https://localhost:8080/"
    },
    "id": "Lu9uUg9ekS8I",
    "outputId": "3fc40846-c301-4154-fe9e-6c7c5a090f04"
   },
   "outputs": [
    {
     "name": "stdout",
     "output_type": "stream",
     "text": [
      "Would a Walkman work in space?\n",
      "https://www.youtube.com/watch?v=TfYeJZeCCjk\n",
      "RETRO TECH: CAMCORDER\n",
      "https://www.youtube.com/watch?v=kMtN9KJHn5Y\n",
      "Analog vs. Digital Cameras\n",
      "https://www.youtube.com/watch?v=BsAmXFcQMQ4\n",
      "A look inside the original Macintosh\n",
      "https://www.youtube.com/watch?v=jdlGvS1y_Ls\n",
      "Console Wars!\n",
      "https://www.youtube.com/watch?v=2SkaD7Q53mA\n"
     ]
    }
   ],
   "source": [
    "from sklearn.metrics.pairwise import cosine_similarity\n",
    "import numpy as np\n",
    "\n",
    "def recommend_videos_using_clustering(keyword, vectorizer, X, labels, df, top_n=5):\n",
    "    # Preprocess the keyword\n",
    "    keyword = preprocess_text(keyword)\n",
    "    # Preprocess the keyword\n",
    "    keyword_vector = vectorizer.transform([keyword]).toarray()\n",
    "\n",
    "    # Calculate the centroid of each cluster\n",
    "    cluster_centroids = []\n",
    "    for cluster_id in np.unique(labels):\n",
    "        cluster_vectors = X[labels == cluster_id]\n",
    "        cluster_centroid = cluster_vectors.mean(axis=0)\n",
    "        cluster_centroids.append(cluster_centroid)\n",
    "\n",
    "    # Find the most similar cluster to the keyword\n",
    "    cluster_similarities = cosine_similarity(keyword_vector, cluster_centroids)\n",
    "    most_similar_cluster_id = np.argmax(cluster_similarities)\n",
    "\n",
    "    # Get all videos in the most similar cluster\n",
    "    cluster_indices = np.where(labels == most_similar_cluster_id + 1)[0]  # +1 because labels are 1-indexed\n",
    "    cluster_vectors = X[cluster_indices]\n",
    "\n",
    "    # Calculate similarity of the keyword to all videos in the cluster\n",
    "    video_similarities = cosine_similarity(keyword_vector, cluster_vectors)[0]\n",
    "\n",
    "    # Get the indices of the top N matches within the cluster\n",
    "    top_indices = np.argsort(video_similarities)[::-1][:top_n]\n",
    "\n",
    "    # Retrieve the corresponding titles and video URLs\n",
    "    recommendations = df.iloc[cluster_indices[top_indices]][['title_list', 'video_url_list']]\n",
    "\n",
    "    return recommendations\n",
    "\n",
    "# Example usage\n",
    "keyword = \"motorola\"\n",
    "recommendations = recommend_videos_using_clustering(keyword, vectorizer, X, labels, df)\n",
    "result_title_list = list(recommendations['title_list'])\n",
    "result_video_url_list = list(recommendations['video_url_list'])\n",
    "for i, j in zip(result_title_list, result_video_url_list):\n",
    "  print(i)\n",
    "  print(j)"
   ]
  },
  {
   "cell_type": "code",
   "execution_count": null,
   "metadata": {},
   "outputs": [],
   "source": []
  }
 ],
 "metadata": {
  "colab": {
   "provenance": []
  },
  "kernelspec": {
   "display_name": "Python 3 (ipykernel)",
   "language": "python",
   "name": "python3"
  },
  "language_info": {
   "codemirror_mode": {
    "name": "ipython",
    "version": 3
   },
   "file_extension": ".py",
   "mimetype": "text/x-python",
   "name": "python",
   "nbconvert_exporter": "python",
   "pygments_lexer": "ipython3",
   "version": "3.11.5"
  }
 },
 "nbformat": 4,
 "nbformat_minor": 4
}
